{
 "cells": [
  {
   "cell_type": "code",
   "execution_count": null,
   "id": "78de0b71",
   "metadata": {},
   "outputs": [],
   "source": [
    "from transformers import Blip2Processor, Blip2ForConditionalGeneration\n",
    "from PIL import Image\n",
    "import torch\n",
    "\n",
    "# Load model and processor\n",
    "processor = Blip2Processor.from_pretrained(\"Salesforce/blip2-opt-2.7b\")\n",
    "model = Blip2ForConditionalGeneration.from_pretrained(\"Salesforce/blip2-opt-2.7b\", torch_dtype=torch.float16).to(\"cuda\")\n"
   ]
  },
  {
   "cell_type": "code",
   "execution_count": null,
   "id": "7e7b317c",
   "metadata": {},
   "outputs": [],
   "source": [
    "import pandas as pd\n",
    "\n",
    "# Load the CSV into a DataFrame\n",
    "df = pd.read_csv(\"/content/drive/MyDrive/dataset/qna.csv\")\n",
    "\n",
    "# Display the first few rows\n",
    "print(df.head())\n"
   ]
  },
  {
   "cell_type": "code",
   "execution_count": null,
   "id": "727f0cda",
   "metadata": {},
   "outputs": [],
   "source": [
    "import os\n",
    "\n",
    "# Step 2: Fix image paths\n",
    "\n",
    "def fix_path(rel_path):\n",
    "    rel_subpath = rel_path.replace(\"../dataset/\", \"\")\n",
    "    return os.path.join(\"/content/drive/MyDrive/dataset\", rel_subpath)\n",
    "\n",
    "df[\"fixed_path\"] = df[\"image_path\"].apply(fix_path)\n"
   ]
  },
  {
   "cell_type": "code",
   "execution_count": null,
   "id": "93342024",
   "metadata": {},
   "outputs": [],
   "source": [
    "df"
   ]
  },
  {
   "cell_type": "code",
   "execution_count": null,
   "id": "90c63cd0",
   "metadata": {},
   "outputs": [],
   "source": [
    "# Track results\n",
    "correct = 0\n",
    "results = []\n",
    "\n",
    "# Iterate through each row\n",
    "for i, row in df.iterrows():\n",
    "    try:\n",
    "        image = Image.open(row[\"fixed_path\"]).convert(\"RGB\")\n",
    "        question = row[\"question\"]\n",
    "        gt_answer = row[\"answer\"].strip().lower()\n",
    "\n",
    "        # VQA inference\n",
    "        inputs = processor(images=image, text=question, return_tensors=\"pt\").to(\"cuda\", torch.float16)\n",
    "        out = model.generate(**inputs)\n",
    "        pred = processor.decode(out[0], skip_special_tokens=True).strip().lower()\n",
    "\n",
    "        is_correct = pred == gt_answer\n",
    "\n",
    "        results.append({\n",
    "            \"image_path\": row[\"image_path\"],\n",
    "            \"question\": question,\n",
    "            \"ground_truth\": gt_answer,\n",
    "            \"predicted\": pred,\n",
    "            \"correct\": is_correct\n",
    "        })\n",
    "\n",
    "        if is_correct:\n",
    "            correct += 1\n",
    "\n",
    "        print(f\"Q: {question}\\nGT: {gt_answer}\\nPredicted: {pred}\\n\")\n",
    "\n",
    "    except Exception as e:\n",
    "        print(f\"Error at row {i}: {e}\")\n",
    "\n",
    "# Final accuracy\n",
    "accuracy = correct / len(df)\n",
    "print(f\"\\nOverall Accuracy: {accuracy:.2%}\")\n",
    "\n",
    "# Save results\n",
    "results_df = pd.DataFrame(results)\n",
    "results_df.to_csv(\"/content/drive/MyDrive/dataset/vqa_results.csv\", index=False)"
   ]
  }
 ],
 "metadata": {
  "kernelspec": {
   "display_name": "rl",
   "language": "python",
   "name": "python3"
  },
  "language_info": {
   "codemirror_mode": {
    "name": "ipython",
    "version": 3
   },
   "file_extension": ".py",
   "mimetype": "text/x-python",
   "name": "python",
   "nbconvert_exporter": "python",
   "pygments_lexer": "ipython3",
   "version": "3.10.16"
  }
 },
 "nbformat": 4,
 "nbformat_minor": 5
}
