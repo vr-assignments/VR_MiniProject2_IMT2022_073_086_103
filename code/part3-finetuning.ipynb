{
 "cells": [
  {
   "cell_type": "code",
   "execution_count": null,
   "metadata": {
    "_cell_guid": "b1076dfc-b9ad-4769-8c92-a6c4dae69d19",
    "_uuid": "8f2839f25d086af736a60e9eeb907d3b93b6e0e5",
    "execution": {
     "iopub.execute_input": "2025-05-16T16:56:02.711761Z",
     "iopub.status.busy": "2025-05-16T16:56:02.711485Z",
     "iopub.status.idle": "2025-05-16T16:56:05.812162Z",
     "shell.execute_reply": "2025-05-16T16:56:05.811126Z",
     "shell.execute_reply.started": "2025-05-16T16:56:02.711741Z"
    },
    "trusted": true
   },
   "outputs": [],
   "source": [
    "!pip install transformers peft accelerate bitsandbytes -q"
   ]
  },
  {
   "cell_type": "code",
   "execution_count": null,
   "metadata": {},
   "outputs": [],
   "source": [
    "# Importing required libraries\n",
    "\n",
    "import os\n",
    "import torch\n",
    "import pandas as pd\n",
    "from PIL import Image\n",
    "from tqdm.notebook import tqdm\n",
    "from peft import LoraConfig, get_peft_model\n",
    "from sklearn.model_selection import train_test_split\n",
    "from accelerate.utils import DataLoaderConfiguration\n",
    "from accelerate import Accelerator\n",
    "from transformers import (\n",
    "    BlipProcessor,\n",
    "    BlipForQuestionAnswering,\n",
    "    TrainingArguments,\n",
    "    Trainer,\n",
    "    DataCollatorWithPadding,\n",
    ")\n"
   ]
  },
  {
   "cell_type": "code",
   "execution_count": null,
   "metadata": {
    "execution": {
     "iopub.execute_input": "2025-05-16T16:56:05.814271Z",
     "iopub.status.busy": "2025-05-16T16:56:05.813908Z",
     "iopub.status.idle": "2025-05-16T16:56:12.804408Z",
     "shell.execute_reply": "2025-05-16T16:56:12.803759Z",
     "shell.execute_reply.started": "2025-05-16T16:56:05.814245Z"
    },
    "trusted": true
   },
   "outputs": [],
   "source": [
    "#Config\n",
    "\n",
    "DATASET_CSV = '/kaggle/input/lora-finetune/qna_2.csv'\n",
    "IMAGE_BASE_DIR = '/kaggle/input/lora-finetune/images/images'\n",
    "MODEL_NAME = \"Salesforce/blip-vqa-base\"\n",
    "DEVICE = \"cuda\" if torch.cuda.is_available() else \"cpu\"\n",
    "LORA_R = 16\n",
    "LORA_ALPHA = 32\n",
    "LORA_DROPOUT = 0.05\n",
    "BATCH_SIZE = 16\n",
    "EVALUATION_BATCH_SIZE = 32\n",
    "NUM_EPOCHS = 3\n",
    "LEARNING_RATE = 5e-5\n",
    "OUTPUT_DIR = \"/kaggle/working\"\n",
    "LORA_ADAPTER_DIR = os.path.join(OUTPUT_DIR, \"lora_adapters\")\n",
    "MAX_LENGTH = 128\n",
    "print(f\"Device: {DEVICE}\")"
   ]
  },
  {
   "cell_type": "code",
   "execution_count": null,
   "metadata": {
    "execution": {
     "iopub.execute_input": "2025-05-16T16:56:12.805580Z",
     "iopub.status.busy": "2025-05-16T16:56:12.805105Z",
     "iopub.status.idle": "2025-05-16T16:56:12.812814Z",
     "shell.execute_reply": "2025-05-16T16:56:12.812006Z",
     "shell.execute_reply.started": "2025-05-16T16:56:12.805560Z"
    },
    "trusted": true
   },
   "outputs": [],
   "source": [
    "# A custom dataset class for VQA — connects questions, answers, and images\n",
    "class VQADataset(torch.utils.data.Dataset):\n",
    "    def __init__(self, df, processor, image_dir, max_length):\n",
    "        self.processor = processor\n",
    "        self.image_dir = image_dir\n",
    "        self.valid_entries = []\n",
    "        self.max_length = max_length\n",
    "        \n",
    "        # Go through each row and make sure the image file actually exists    \n",
    "        for index, row in tqdm(df.iterrows(), total=len(df), desc=\"Verifying image paths\"):\n",
    "            img_path = os.path.join(image_dir, str(row['filename']))\n",
    "            if os.path.exists(img_path):\n",
    "                self.valid_entries.append(row)\n",
    "            else:\n",
    "                print(f\"Missing image at {img_path}. Skipping.\")\n",
    "\n",
    "        if not self.valid_entries:\n",
    "            raise RuntimeError(\"No valid image paths found. Check your input paths.\")\n",
    "\n",
    "        # Keep only the rows that had working image paths\n",
    "        self.df = pd.DataFrame(self.valid_entries)\n",
    "\n",
    "    def __len__(self):\n",
    "        return len(self.df)\n",
    "\n",
    "    def __getitem__(self, index):\n",
    "        row = self.df.iloc[index]\n",
    "        question = str(row['question'])\n",
    "        answer = str(row['answer'])\n",
    "        image_path = os.path.join(self.image_dir, str(row['filename']))\n",
    "\n",
    "        try:\n",
    "            image = Image.open(image_path).convert(\"RGB\")\n",
    "        except Exception as e:\n",
    "            print(f\"Error loading image {image_path}: {e}\")\n",
    "            raise\n",
    "        \n",
    "        # Send everything (image + question + answer) to the processor\n",
    "        # The processor handles both image encoding and tokenization  \n",
    "        encoding = self.processor(\n",
    "            images=image,\n",
    "            text=question,\n",
    "            text_target=answer,\n",
    "            padding=\"max_length\",# Pad everything to the same size\n",
    "            truncation=True,# Truncate everything to max_length\n",
    "            max_length=self.max_length,\n",
    "            return_tensors=\"pt\"\n",
    "        )\n",
    "        return {k: v.squeeze(0) for k, v in encoding.items()}\n"
   ]
  },
  {
   "cell_type": "code",
   "execution_count": null,
   "metadata": {
    "execution": {
     "iopub.execute_input": "2025-05-16T16:56:12.815365Z",
     "iopub.status.busy": "2025-05-16T16:56:12.814598Z",
     "iopub.status.idle": "2025-05-16T16:56:14.085173Z",
     "shell.execute_reply": "2025-05-16T16:56:14.084544Z",
     "shell.execute_reply.started": "2025-05-16T16:56:12.815339Z"
    },
    "trusted": true
   },
   "outputs": [],
   "source": [
    "# Loading model and processor\n",
    "\n",
    "model = BlipForQuestionAnswering.from_pretrained(MODEL_NAME)\n",
    "processor = BlipProcessor.from_pretrained(MODEL_NAME, use_fast=True)\n",
    "print(\"Finished loading model and processor.\")\n"
   ]
  },
  {
   "cell_type": "code",
   "execution_count": null,
   "metadata": {
    "execution": {
     "iopub.execute_input": "2025-05-16T16:56:14.086011Z",
     "iopub.status.busy": "2025-05-16T16:56:14.085822Z",
     "iopub.status.idle": "2025-05-16T16:56:14.947703Z",
     "shell.execute_reply": "2025-05-16T16:56:14.947096Z",
     "shell.execute_reply.started": "2025-05-16T16:56:14.085995Z"
    },
    "trusted": true
   },
   "outputs": [],
   "source": [
    "# Setting up Lora\n",
    "target_modules = [\"q_proj\", \"k_proj\", \"v_proj\", \"query\", \"key\", \"value\"] # These are the common target_modules\n",
    "\n",
    "lora_config = LoraConfig(\n",
    "    r=LORA_R,\n",
    "    lora_alpha=LORA_ALPHA,\n",
    "    target_modules=target_modules,\n",
    "    lora_dropout=LORA_DROPOUT,\n",
    "    bias=\"none\",\n",
    ")\n",
    "\n",
    "model = get_peft_model(model, lora_config)\n",
    "model.print_trainable_parameters()\n"
   ]
  },
  {
   "cell_type": "code",
   "execution_count": null,
   "metadata": {
    "execution": {
     "iopub.execute_input": "2025-05-16T16:56:14.948523Z",
     "iopub.status.busy": "2025-05-16T16:56:14.948344Z",
     "iopub.status.idle": "2025-05-16T16:56:19.895980Z",
     "shell.execute_reply": "2025-05-16T16:56:19.895418Z",
     "shell.execute_reply.started": "2025-05-16T16:56:14.948509Z"
    },
    "trusted": true
   },
   "outputs": [],
   "source": [
    "# Generating train and test data with 80-20 split\n",
    "df_full = pd.read_csv(DATASET_CSV)\n",
    "train_df, val_df = train_test_split(df_full, test_size=0.2, random_state=7)\n",
    "\n",
    "# Converting the train and test datasets to the required format\n",
    "\n",
    "try:\n",
    "    train_dataset = VQADataset(train_df, processor, IMAGE_BASE_DIR, MAX_LENGTH)\n",
    "    val_dataset = VQADataset(val_df, processor, IMAGE_BASE_DIR, MAX_LENGTH)\n",
    "    print(f\"Datasets loaded: train={len(train_dataset)}, val={len(val_dataset)}\")\n",
    "except Exception as e:\n",
    "    print(f\"Error: {e}\")\n",
    "    exit()\n",
    "\n",
    "if len(train_dataset) == 0:\n",
    "    print(\"train dataset empty\")\n",
    "    exit()\n"
   ]
  },
  {
   "cell_type": "code",
   "execution_count": null,
   "metadata": {
    "execution": {
     "iopub.execute_input": "2025-05-16T16:56:19.896946Z",
     "iopub.status.busy": "2025-05-16T16:56:19.896702Z",
     "iopub.status.idle": "2025-05-16T16:56:19.936699Z",
     "shell.execute_reply": "2025-05-16T16:56:19.936107Z",
     "shell.execute_reply.started": "2025-05-16T16:56:19.896928Z"
    },
    "trusted": true
   },
   "outputs": [],
   "source": [
    "data_collator = DataCollatorWithPadding(tokenizer=processor.tokenizer)\n",
    "\n",
    "total_steps = len(train_dataset) * NUM_EPOCHS // BATCH_SIZE\n",
    "\n",
    "dataloader_config = DataLoaderConfiguration(dispatch_batches=None, split_batches=False)\n",
    "accelerator = Accelerator(dataloader_config=dataloader_config)\n"
   ]
  },
  {
   "cell_type": "code",
   "execution_count": null,
   "metadata": {
    "execution": {
     "iopub.execute_input": "2025-05-16T16:56:19.937896Z",
     "iopub.status.busy": "2025-05-16T16:56:19.937610Z",
     "iopub.status.idle": "2025-05-16T19:11:30.705779Z",
     "shell.execute_reply": "2025-05-16T19:11:30.705003Z",
     "shell.execute_reply.started": "2025-05-16T16:56:19.937878Z"
    },
    "trusted": true
   },
   "outputs": [],
   "source": [
    "# Training model with Adam optimizer and saving model after every epoch\n",
    "from torch.cuda.amp import autocast, GradScaler\n",
    "from tqdm import tqdm\n",
    "import time\n",
    "\n",
    "optimizer = torch.optim.AdamW(model.parameters(), lr=LEARNING_RATE)\n",
    "scaler = GradScaler()\n",
    "\n",
    "model.to(DEVICE)\n",
    "model.train()\n",
    "\n",
    "best_loss = float(\"inf\")\n",
    "patience = 2\n",
    "epochs_no_improve = 0\n",
    "\n",
    "save_dir = os.path.join(OUTPUT_DIR, \"lora_output\")\n",
    "os.makedirs(save_dir, exist_ok=True)\n",
    "\n",
    "train_dataloader = torch.utils.data.DataLoader(\n",
    "    train_dataset,\n",
    "    batch_size=BATCH_SIZE,\n",
    "    shuffle=True,\n",
    "    collate_fn=data_collator\n",
    ")\n",
    "\n",
    "print(\"Starting manual training...\")\n",
    "\n",
    "for epoch in range(NUM_EPOCHS):\n",
    "    print(f\"\\nEpoch {epoch + 1}/{NUM_EPOCHS}\")\n",
    "    start_time = time.time()\n",
    "\n",
    "    running_loss = 0.0\n",
    "    loop = tqdm(train_dataloader, desc=f\"Training Epoch {epoch+1}\", leave=False)\n",
    "\n",
    "    for index, batch in enumerate(loop):\n",
    "        input_ids = batch[\"input_ids\"].to(DEVICE)\n",
    "        pixel_values = batch[\"pixel_values\"].to(DEVICE)\n",
    "        attention_mask = batch.get(\"attention_mask\", None)\n",
    "        if attention_mask is not None:\n",
    "            attention_mask = attention_mask.to(DEVICE)\n",
    "        labels = batch[\"labels\"].to(DEVICE)\n",
    "\n",
    "        optimizer.zero_grad()\n",
    "\n",
    "        with autocast():\n",
    "            outputs = model(\n",
    "                input_ids=input_ids,\n",
    "                pixel_values=pixel_values,\n",
    "                attention_mask=attention_mask,\n",
    "                labels=labels\n",
    "            )\n",
    "            loss = outputs.loss\n",
    "\n",
    "        scaler.scale(loss).backward()\n",
    "        scaler.step(optimizer)\n",
    "        scaler.update()\n",
    "\n",
    "        running_loss += loss.item()\n",
    "        loop.set_postfix(loss=loss.item())\n",
    "\n",
    "    avg_loss = running_loss / len(train_dataloader)\n",
    "    duration = time.time() - start_time\n",
    "    print(f\"Avg Loss for Epoch {epoch+1}: {avg_loss:.4f} | Time taken: {duration:.2f} sec\")\n",
    "\n",
    "    # Save model after each epoch\n",
    "    epoch_dir = os.path.join(save_dir, f\"epoch_{epoch+1}\")\n",
    "    model.save_pretrained(epoch_dir)\n",
    "    processor.save_pretrained(epoch_dir)\n",
    "    print(f\"Saved model to: {epoch_dir}\")\n",
    "\n",
    "    # Early stopping check\n",
    "    if avg_loss < best_loss:\n",
    "        best_loss = avg_loss\n",
    "        epochs_no_improve = 0\n",
    "    else:\n",
    "        epochs_no_improve += 1\n",
    "        if epochs_no_improve >= patience:\n",
    "            print(\"Early stopping: No improvement for 2 consecutive epochs.\")\n",
    "            break\n"
   ]
  },
  {
   "cell_type": "code",
   "execution_count": null,
   "metadata": {
    "execution": {
     "iopub.execute_input": "2025-05-16T19:13:46.697853Z",
     "iopub.status.busy": "2025-05-16T19:13:46.697173Z",
     "iopub.status.idle": "2025-05-16T19:13:47.626960Z",
     "shell.execute_reply": "2025-05-16T19:13:47.626278Z",
     "shell.execute_reply.started": "2025-05-16T19:13:46.697831Z"
    },
    "trusted": true
   },
   "outputs": [],
   "source": [
    "!zip -r /kaggle/working/epoch_3.zip /kaggle/working/lora_output/epoch_3\n"
   ]
  }
 ],
 "metadata": {
  "kaggle": {
   "accelerator": "nvidiaTeslaT4",
   "dataSources": [
    {
     "datasetId": 7435452,
     "sourceId": 11835125,
     "sourceType": "datasetVersion"
    }
   ],
   "dockerImageVersionId": 31041,
   "isGpuEnabled": true,
   "isInternetEnabled": true,
   "language": "python",
   "sourceType": "notebook"
  },
  "kernelspec": {
   "display_name": "Python 3",
   "language": "python",
   "name": "python3"
  },
  "language_info": {
   "codemirror_mode": {
    "name": "ipython",
    "version": 3
   },
   "file_extension": ".py",
   "mimetype": "text/x-python",
   "name": "python",
   "nbconvert_exporter": "python",
   "pygments_lexer": "ipython3",
   "version": "3.11.11"
  }
 },
 "nbformat": 4,
 "nbformat_minor": 4
}
